{
 "cells": [
  {
   "cell_type": "markdown",
   "id": "1e08a29c",
   "metadata": {},
   "source": [
    "# Uber Trips"
   ]
  },
  {
   "cell_type": "code",
   "execution_count": 1,
   "id": "f585637d",
   "metadata": {},
   "outputs": [],
   "source": [
    "import pandas as pd\n",
    "import numpy as np\n",
    "import matplotlib.pyplot as plt\n",
    "import plotly as pl\n",
    "%matplotlib inline\n",
    "import seaborn as sns"
   ]
  },
  {
   "cell_type": "code",
   "execution_count": null,
   "id": "ebd239d0",
   "metadata": {},
   "outputs": [],
   "source": [
    "uber_trips = pd.read_csv(\"uber.csv\", parse_dates= [\"Datetime\"])  #using parse dates to convert the date format to datetime"
   ]
  },
  {
   "cell_type": "code",
   "execution_count": null,
   "id": "cee34875",
   "metadata": {
    "scrolled": true
   },
   "outputs": [],
   "source": [
    "uber_trips.head()"
   ]
  },
  {
   "cell_type": "markdown",
   "id": "e77cbdbb",
   "metadata": {},
   "source": [
    "### preparing the data"
   ]
  },
  {
   "cell_type": "code",
   "execution_count": null,
   "id": "78b07510",
   "metadata": {},
   "outputs": [],
   "source": [
    "uber_trips[\"Day\"] = uber_trips[\"Datetime\"].apply(lambda x: x.day)  #pulling day number out of datetime column\n",
    "#ps: it won't work if the the datetime column is assigned as index of the data\n",
    "uber_trips[\"Weekday\"] = uber_trips[\"Datetime\"].apply(lambda x: x.weekday()) #pulling weekday\n",
    "uber_trips[\"Hour\"] = uber_trips[\"Datetime\"].apply(lambda x: x.hour) #pulling hour of the day\n",
    "uber_trips.head()"
   ]
  },
  {
   "cell_type": "code",
   "execution_count": null,
   "id": "68846a33",
   "metadata": {
    "scrolled": true
   },
   "outputs": [],
   "source": [
    "#changing the columns names\n",
    "uber_trips = uber_trips.rename(columns={'Lat':'Latitude','Lon':'Longitude'})\n",
    "uber_trips.head()"
   ]
  },
  {
   "cell_type": "code",
   "execution_count": null,
   "id": "a508b105",
   "metadata": {
    "scrolled": false
   },
   "outputs": [],
   "source": [
    "sns.distplot(uber_trips[\"Weekday\"])"
   ]
  },
  {
   "cell_type": "markdown",
   "id": "ccde5a0c",
   "metadata": {},
   "source": [
    "The above graph shows the 7 days of the week starting from 0 which is Sunday. Even though it's Sunday, for Uber it's a busy day mainly because people are preferring Uber to travel. "
   ]
  },
  {
   "cell_type": "code",
   "execution_count": null,
   "id": "fca06067",
   "metadata": {},
   "outputs": [],
   "source": [
    "sns.distplot(uber_trips[\"Hour\"])"
   ]
  },
  {
   "cell_type": "code",
   "execution_count": null,
   "id": "4b4fe508",
   "metadata": {},
   "outputs": [],
   "source": [
    "hour_week = uber_trips.groupby([\"Weekday\",\"Hour\"]).apply(lambda x: len(x))"
   ]
  },
  {
   "cell_type": "code",
   "execution_count": null,
   "id": "c5c5389a",
   "metadata": {},
   "outputs": [],
   "source": [
    "hour_week = hour_week.unstack()"
   ]
  },
  {
   "cell_type": "code",
   "execution_count": null,
   "id": "386beaff",
   "metadata": {},
   "outputs": [],
   "source": [
    "sns.heatmap(hour_week, annot= False, cmap = \"viridis\")"
   ]
  },
  {
   "cell_type": "code",
   "execution_count": null,
   "id": "1447245d",
   "metadata": {},
   "outputs": [],
   "source": [
    "uber_trips.plot(kind = \"scatter\", x = 'Longitude', y ='Latitude', alpha = 0.4, s = uber_trips['Day'], label = 'Uber trips',\n",
    "               figsize = (12,8))\n",
    "plt.title(\"Uber trip analysis\")\n",
    "plt.legend()\n",
    "plt.show()"
   ]
  },
  {
   "cell_type": "code",
   "execution_count": null,
   "id": "1b66d987",
   "metadata": {},
   "outputs": [],
   "source": [
    "import cufflinks as cf"
   ]
  },
  {
   "cell_type": "code",
   "execution_count": null,
   "id": "40fbe2e9",
   "metadata": {},
   "outputs": [],
   "source": [
    "cf.go_offline()"
   ]
  },
  {
   "cell_type": "code",
   "execution_count": null,
   "id": "9f5979b4",
   "metadata": {},
   "outputs": [],
   "source": [
    "hour_week.iplot()"
   ]
  },
  {
   "cell_type": "code",
   "execution_count": null,
   "id": "d0f1d5dd",
   "metadata": {},
   "outputs": [],
   "source": [
    "day_week = uber_trips.groupby([\"Day\",\"Weekday\"]).apply(lambda x: len(x))"
   ]
  },
  {
   "cell_type": "code",
   "execution_count": null,
   "id": "23926f26",
   "metadata": {},
   "outputs": [],
   "source": [
    "import plotly.graph_objects as go"
   ]
  },
  {
   "cell_type": "code",
   "execution_count": null,
   "id": "4cc931fd",
   "metadata": {},
   "outputs": [],
   "source": [
    "area_chart = go.Scatter(x = uber_trips[\"Day\"], y = uber_trips[\"Weekday\"])"
   ]
  },
  {
   "cell_type": "code",
   "execution_count": null,
   "id": "f85dfc78",
   "metadata": {},
   "outputs": [],
   "source": [
    "fig = go.Figure(area_chart)"
   ]
  },
  {
   "cell_type": "code",
   "execution_count": null,
   "id": "6ce4f9c9",
   "metadata": {},
   "outputs": [],
   "source": [
    "fig.iplot()"
   ]
  },
  {
   "cell_type": "code",
   "execution_count": null,
   "id": "84a96078",
   "metadata": {},
   "outputs": [],
   "source": []
  }
 ],
 "metadata": {
  "kernelspec": {
   "display_name": "Python 3 (ipykernel)",
   "language": "python",
   "name": "python3"
  },
  "language_info": {
   "codemirror_mode": {
    "name": "ipython",
    "version": 3
   },
   "file_extension": ".py",
   "mimetype": "text/x-python",
   "name": "python",
   "nbconvert_exporter": "python",
   "pygments_lexer": "ipython3",
   "version": "3.10.9"
  }
 },
 "nbformat": 4,
 "nbformat_minor": 5
}
